{
  "nbformat": 4,
  "nbformat_minor": 0,
  "metadata": {
    "colab": {
      "provenance": [],
      "authorship_tag": "ABX9TyP27vrwJoQq3bk42PwQdQtp",
      "include_colab_link": true
    },
    "kernelspec": {
      "name": "python3",
      "display_name": "Python 3"
    },
    "language_info": {
      "name": "python"
    }
  },
  "cells": [
    {
      "cell_type": "markdown",
      "metadata": {
        "id": "view-in-github",
        "colab_type": "text"
      },
      "source": [
        "<a href=\"https://colab.research.google.com/github/kjaewon4/ArtPlanner/blob/main/ml-server/notebooks/sd-style-transfer.ipynb\" target=\"_parent\"><img src=\"https://colab.research.google.com/assets/colab-badge.svg\" alt=\"Open In Colab\"/></a>"
      ]
    },
    {
      "cell_type": "code",
      "execution_count": null,
      "metadata": {
        "id": "SUzUsbTUTT1c"
      },
      "outputs": [],
      "source": [
        "!pip install diffusers transformers ftfy accelerate\n",
        "!pip install python-multipart\n",
        "!pip install --upgrade transformers==4.44.1\n",
        "import transformers\n",
        "print(transformers.__version__)  # 4.44.1 이 출력되어야 합니다.\n",
        "!pip install --upgrade --no-deps fastapi uvicorn nest-asyncio pyngrok\n",
        "!pip install fastapi uvicorn starlette nest-asyncio pyngrok"
      ]
    },
    {
      "cell_type": "code",
      "source": [
        "from diffusers import StableDiffusionImg2ImgPipeline\n",
        "import torch\n",
        "from PIL import Image\n",
        "\n",
        "pipe = StableDiffusionImg2ImgPipeline.from_pretrained(\n",
        "    \"CompVis/stable-diffusion-v1-4\",\n",
        "    torch_dtype=torch.float32\n",
        ").to(\"cuda\")\n",
        "\n",
        "print(\"Stable Diffusion 파이프라인 정상 로드됨\")"
      ],
      "metadata": {
        "id": "DveVgF9RTWE6"
      },
      "execution_count": null,
      "outputs": []
    },
    {
      "cell_type": "code",
      "source": [
        "# 3. FastAPI 서버 정의\n",
        "from fastapi import FastAPI, UploadFile, File, Form\n",
        "from fastapi.responses import FileResponse\n",
        "import os, shutil\n",
        "from fastapi.middleware.cors import CORSMiddleware\n",
        "\n",
        "app = FastAPI()\n",
        "\n",
        "# CORS 설정 추가\n",
        "app.add_middleware(\n",
        "    CORSMiddleware,\n",
        "    allow_origins=[\"*\"],  # 또는 [\"http://localhost:3000\"]으로 제한할 수 있음\n",
        "    allow_credentials=True,\n",
        "    allow_methods=[\"*\"],\n",
        "    allow_headers=[\"*\"],\n",
        ")\n",
        "\n",
        "os.makedirs(\"/content/uploads\", exist_ok=True)\n",
        "os.makedirs(\"/content/outputs\", exist_ok=True)\n",
        "\n",
        "@app.post(\"/api/sd-style-transfer\")\n",
        "async def sd_style_transfer(\n",
        "    content: UploadFile    = File(...),         # ① File을 제일 먼저\n",
        "    prompt: str            = Form(...),         # ② 그 다음 Form\n",
        "    strength: float        = Form(0.7),         # ③ 숫자도 그대로 float\n",
        "    guidance_scale: float  = Form(7.5)          # ④\n",
        "):\n",
        "    try:\n",
        "        input_path  = f\"/content/uploads/{content.filename}\"\n",
        "        output_path = f\"/content/outputs/styled_{content.filename}\"\n",
        "\n",
        "        # 파일 저장\n",
        "        with open(input_path, \"wb\") as f:\n",
        "            shutil.copyfileobj(content.file, f)\n",
        "\n",
        "        # 변환\n",
        "        image = Image.open(input_path).convert(\"RGB\").resize((512, 512))\n",
        "        result = pipe(\n",
        "            prompt=prompt,\n",
        "            image=image,\n",
        "            strength=strength,\n",
        "            guidance_scale=guidance_scale\n",
        "        ).images[0]\n",
        "        result.save(output_path)\n",
        "        return FileResponse(output_path, media_type=\"image/png\")\n",
        "\n",
        "    except Exception as e:\n",
        "        return JSONResponse(status_code=400, content={\"error\": str(e)})\n"
      ],
      "metadata": {
        "id": "JWFmVmFOTYi5"
      },
      "execution_count": null,
      "outputs": []
    },
    {
      "cell_type": "code",
      "source": [
        "# 4. ngrok으로 외부 공개\n",
        "from pyngrok import ngrok, conf\n",
        "import nest_asyncio\n",
        "import uvicorn\n",
        "\n",
        "# 1) 발급받은 토큰을 설정\n",
        "conf.get_default().auth_token = \"YOUR_NGROK_TOKEN\"\n",
        "\n",
        "# 2) 이제 터널 생성\n",
        "ngrok_tunnel = ngrok.connect(8000)\n",
        "print(\"Public URL:\", ngrok_tunnel.public_url)\n",
        "\n",
        "# FastAPI 서버 실행\n",
        "nest_asyncio.apply()\n",
        "uvicorn.run(app, host=\"0.0.0.0\", port=8000)"
      ],
      "metadata": {
        "id": "7TizCiiDTa_N"
      },
      "execution_count": null,
      "outputs": []
    }
  ]
}